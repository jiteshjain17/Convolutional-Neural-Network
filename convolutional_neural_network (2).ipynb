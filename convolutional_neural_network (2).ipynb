{
 "cells": [
  {
   "cell_type": "markdown",
   "metadata": {
    "id": "3DR-eO17geWu"
   },
   "source": [
    "# Convolutional Neural Network"
   ]
  },
  {
   "cell_type": "markdown",
   "metadata": {
    "id": "EMefrVPCg-60"
   },
   "source": [
    "### Importing the libraries"
   ]
  },
  {
   "cell_type": "code",
   "execution_count": 1,
   "metadata": {
    "id": "7WNra-AtSPFl"
   },
   "outputs": [],
   "source": [
    "import tensorflow as tf\n",
    "from keras.preprocessing.image import ImageDataGenerator"
   ]
  },
  {
   "cell_type": "code",
   "execution_count": 2,
   "metadata": {
    "colab": {
     "base_uri": "https://localhost:8080/",
     "height": 35
    },
    "id": "z83gWI1RSpk9",
    "outputId": "b6cadd58-ea48-4b6d-bcab-0984d5b5622c"
   },
   "outputs": [
    {
     "data": {
      "text/plain": [
       "'2.3.1'"
      ]
     },
     "execution_count": 2,
     "metadata": {},
     "output_type": "execute_result"
    }
   ],
   "source": [
    "tf.__version__"
   ]
  },
  {
   "cell_type": "markdown",
   "metadata": {
    "id": "oxQxCBWyoGPE"
   },
   "source": [
    "## Part 1 - Data Preprocessing"
   ]
  },
  {
   "cell_type": "markdown",
   "metadata": {
    "id": "MvE-heJNo3GG"
   },
   "source": [
    "### Preprocessing the Training set"
   ]
  },
  {
   "cell_type": "code",
   "execution_count": 3,
   "metadata": {
    "id": "woz3hAH3TZ7k"
   },
   "outputs": [
    {
     "name": "stdout",
     "output_type": "stream",
     "text": [
      "Found 8000 images belonging to 2 classes.\n"
     ]
    }
   ],
   "source": [
    "train_datagen = ImageDataGenerator(\n",
    "        rescale=1./255,\n",
    "        shear_range=0.2,\n",
    "        zoom_range=0.2,\n",
    "        horizontal_flip=True)\n",
    "training_set = train_datagen.flow_from_directory(\n",
    "        'dataset/training_set',\n",
    "        target_size=(64, 64),\n",
    "        batch_size=32,\n",
    "        class_mode='binary')"
   ]
  },
  {
   "cell_type": "markdown",
   "metadata": {
    "id": "mrCMmGw9pHys"
   },
   "source": [
    "### Preprocessing the Test set"
   ]
  },
  {
   "cell_type": "code",
   "execution_count": 4,
   "metadata": {
    "id": "dw6RfoPKWgot"
   },
   "outputs": [
    {
     "name": "stdout",
     "output_type": "stream",
     "text": [
      "Found 2000 images belonging to 2 classes.\n"
     ]
    }
   ],
   "source": [
    "test_datagen = ImageDataGenerator(rescale=1./255)\n",
    "test_set = test_datagen.flow_from_directory(\n",
    "        'dataset/test_set',\n",
    "        target_size=(64, 64),\n",
    "        batch_size=32,\n",
    "        class_mode='binary')"
   ]
  },
  {
   "cell_type": "markdown",
   "metadata": {
    "id": "af8O4l90gk7B"
   },
   "source": [
    "## Part 2 - Building the CNN"
   ]
  },
  {
   "cell_type": "markdown",
   "metadata": {
    "id": "ces1gXY2lmoX"
   },
   "source": [
    "### Initialising the CNN"
   ]
  },
  {
   "cell_type": "code",
   "execution_count": 5,
   "metadata": {
    "id": "psEXoJqQO6TB"
   },
   "outputs": [],
   "source": [
    "cnn = tf.keras.models.Sequential()"
   ]
  },
  {
   "cell_type": "markdown",
   "metadata": {
    "id": "u5YJj_XMl5LF"
   },
   "source": [
    "### Step 1 - Convolution"
   ]
  },
  {
   "cell_type": "code",
   "execution_count": 6,
   "metadata": {
    "id": "EklqQ4BJPKoA"
   },
   "outputs": [],
   "source": [
    "cnn.add(tf.keras.layers.Conv2D(filters=32, kernel_size=3, activation='relu', input_shape=[64,64,3]))"
   ]
  },
  {
   "cell_type": "markdown",
   "metadata": {
    "id": "tf87FpvxmNOJ"
   },
   "source": [
    "### Step 2 - Pooling"
   ]
  },
  {
   "cell_type": "code",
   "execution_count": 7,
   "metadata": {
    "id": "bcH106KNSmAc"
   },
   "outputs": [],
   "source": [
    "cnn.add(tf.keras.layers.MaxPool2D(pool_size=2, strides=2))"
   ]
  },
  {
   "cell_type": "markdown",
   "metadata": {
    "id": "xaTOgD8rm4mU"
   },
   "source": [
    "### Adding a second convolutional layer"
   ]
  },
  {
   "cell_type": "code",
   "execution_count": 8,
   "metadata": {
    "id": "7zlFWD1wTCMp"
   },
   "outputs": [],
   "source": [
    "cnn.add(tf.keras.layers.Conv2D(filters=32, kernel_size=3, activation='relu'))\n",
    "cnn.add(tf.keras.layers.MaxPool2D(pool_size=2, strides=2))"
   ]
  },
  {
   "cell_type": "markdown",
   "metadata": {
    "id": "tmiEuvTunKfk"
   },
   "source": [
    "### Step 3 - Flattening"
   ]
  },
  {
   "cell_type": "code",
   "execution_count": 9,
   "metadata": {
    "id": "ZkhG2JPrTYXc"
   },
   "outputs": [],
   "source": [
    "cnn.add(tf.keras.layers.Flatten())"
   ]
  },
  {
   "cell_type": "markdown",
   "metadata": {
    "id": "dAoSECOm203v"
   },
   "source": [
    "### Step 4 - Full Connection"
   ]
  },
  {
   "cell_type": "code",
   "execution_count": 10,
   "metadata": {
    "id": "kU6VjcOeTvYR"
   },
   "outputs": [],
   "source": [
    "cnn.add(tf.keras.layers.Dense(units=128, activation='relu'))"
   ]
  },
  {
   "cell_type": "markdown",
   "metadata": {
    "id": "yTldFvbX28Na"
   },
   "source": [
    "### Step 5 - Output Layer"
   ]
  },
  {
   "cell_type": "code",
   "execution_count": 11,
   "metadata": {
    "id": "UsNUVGyFUQg5"
   },
   "outputs": [],
   "source": [
    "cnn.add(tf.keras.layers.Dense(units=1, activation='sigmoid'))"
   ]
  },
  {
   "cell_type": "markdown",
   "metadata": {
    "id": "D6XkI90snSDl"
   },
   "source": [
    "## Part 3 - Training the CNN"
   ]
  },
  {
   "cell_type": "markdown",
   "metadata": {
    "id": "vfrFQACEnc6i"
   },
   "source": [
    "### Compiling the CNN"
   ]
  },
  {
   "cell_type": "code",
   "execution_count": 12,
   "metadata": {
    "id": "oBXNjne8U-GG"
   },
   "outputs": [],
   "source": [
    "cnn.compile(optimizer='adam', loss='binary_crossentropy', metrics = ['accuracy'])"
   ]
  },
  {
   "cell_type": "markdown",
   "metadata": {
    "id": "ehS-v3MIpX2h"
   },
   "source": [
    "### Training the CNN on the Training set and evaluating it on the Test set"
   ]
  },
  {
   "cell_type": "code",
   "execution_count": 13,
   "metadata": {
    "id": "ZuJlM8sgVVcu"
   },
   "outputs": [
    {
     "name": "stdout",
     "output_type": "stream",
     "text": [
      "Epoch 1/25\n",
      "250/250 [==============================] - 109s 435ms/step - loss: 0.6653 - accuracy: 0.5795 - val_loss: 0.5983 - val_accuracy: 0.6775\n",
      "Epoch 2/25\n",
      "250/250 [==============================] - 48s 192ms/step - loss: 0.5946 - accuracy: 0.6846 - val_loss: 0.5468 - val_accuracy: 0.7205\n",
      "Epoch 3/25\n",
      "250/250 [==============================] - 51s 203ms/step - loss: 0.5487 - accuracy: 0.7172 - val_loss: 0.5155 - val_accuracy: 0.7455\n",
      "Epoch 4/25\n",
      "250/250 [==============================] - 48s 193ms/step - loss: 0.5188 - accuracy: 0.7377 - val_loss: 0.5054 - val_accuracy: 0.7405\n",
      "Epoch 5/25\n",
      "250/250 [==============================] - 45s 180ms/step - loss: 0.4934 - accuracy: 0.7588 - val_loss: 0.4839 - val_accuracy: 0.7615\n",
      "Epoch 6/25\n",
      "250/250 [==============================] - 44s 177ms/step - loss: 0.4772 - accuracy: 0.7722 - val_loss: 0.4762 - val_accuracy: 0.7670\n",
      "Epoch 7/25\n",
      "250/250 [==============================] - 44s 177ms/step - loss: 0.4694 - accuracy: 0.7697 - val_loss: 0.4778 - val_accuracy: 0.7805\n",
      "Epoch 8/25\n",
      "250/250 [==============================] - 45s 179ms/step - loss: 0.4477 - accuracy: 0.7896 - val_loss: 0.4579 - val_accuracy: 0.7880\n",
      "Epoch 9/25\n",
      "250/250 [==============================] - 45s 179ms/step - loss: 0.4352 - accuracy: 0.7928 - val_loss: 0.4387 - val_accuracy: 0.8055\n",
      "Epoch 10/25\n",
      "250/250 [==============================] - 45s 179ms/step - loss: 0.4260 - accuracy: 0.8002 - val_loss: 0.5361 - val_accuracy: 0.7700\n",
      "Epoch 11/25\n",
      "250/250 [==============================] - 45s 179ms/step - loss: 0.4121 - accuracy: 0.8117 - val_loss: 0.4558 - val_accuracy: 0.7845\n",
      "Epoch 12/25\n",
      "250/250 [==============================] - 45s 179ms/step - loss: 0.4023 - accuracy: 0.8098 - val_loss: 0.4646 - val_accuracy: 0.7875\n",
      "Epoch 13/25\n",
      "250/250 [==============================] - 45s 180ms/step - loss: 0.3971 - accuracy: 0.8164 - val_loss: 0.4657 - val_accuracy: 0.7975\n",
      "Epoch 14/25\n",
      "250/250 [==============================] - 45s 179ms/step - loss: 0.3761 - accuracy: 0.8289 - val_loss: 0.4373 - val_accuracy: 0.8075\n",
      "Epoch 15/25\n",
      "250/250 [==============================] - 45s 182ms/step - loss: 0.3662 - accuracy: 0.8344 - val_loss: 0.4806 - val_accuracy: 0.7800\n",
      "Epoch 16/25\n",
      "250/250 [==============================] - 45s 181ms/step - loss: 0.3556 - accuracy: 0.8430 - val_loss: 0.4716 - val_accuracy: 0.7970\n",
      "Epoch 17/25\n",
      "250/250 [==============================] - 45s 178ms/step - loss: 0.3459 - accuracy: 0.8440 - val_loss: 0.4561 - val_accuracy: 0.8085\n",
      "Epoch 18/25\n",
      "250/250 [==============================] - 45s 180ms/step - loss: 0.3356 - accuracy: 0.8520 - val_loss: 0.4707 - val_accuracy: 0.8100\n",
      "Epoch 19/25\n",
      "250/250 [==============================] - 45s 179ms/step - loss: 0.3217 - accuracy: 0.8530 - val_loss: 0.4389 - val_accuracy: 0.8190\n",
      "Epoch 20/25\n",
      "250/250 [==============================] - 45s 179ms/step - loss: 0.3134 - accuracy: 0.8651 - val_loss: 0.4454 - val_accuracy: 0.8170\n",
      "Epoch 21/25\n",
      "250/250 [==============================] - 44s 176ms/step - loss: 0.3031 - accuracy: 0.8708 - val_loss: 0.5465 - val_accuracy: 0.7915\n",
      "Epoch 22/25\n",
      "250/250 [==============================] - 41s 163ms/step - loss: 0.2899 - accuracy: 0.8759 - val_loss: 0.4903 - val_accuracy: 0.8105\n",
      "Epoch 23/25\n",
      "250/250 [==============================] - 41s 166ms/step - loss: 0.2914 - accuracy: 0.8741 - val_loss: 0.4685 - val_accuracy: 0.8170\n",
      "Epoch 24/25\n",
      "250/250 [==============================] - 41s 166ms/step - loss: 0.2725 - accuracy: 0.8830 - val_loss: 0.4762 - val_accuracy: 0.8160\n",
      "Epoch 25/25\n",
      "250/250 [==============================] - 41s 164ms/step - loss: 0.2639 - accuracy: 0.8896 - val_loss: 0.4740 - val_accuracy: 0.8145\n"
     ]
    },
    {
     "data": {
      "text/plain": [
       "<tensorflow.python.keras.callbacks.History at 0x1604b561d08>"
      ]
     },
     "execution_count": 13,
     "metadata": {},
     "output_type": "execute_result"
    }
   ],
   "source": [
    "cnn.fit(x = training_set, validation_data = test_set, epochs = 25)"
   ]
  },
  {
   "cell_type": "markdown",
   "metadata": {
    "id": "U3PZasO0006Z"
   },
   "source": [
    "## Part 4 - Making a single prediction"
   ]
  },
  {
   "cell_type": "code",
   "execution_count": 23,
   "metadata": {
    "id": "9P535XlDWeXw"
   },
   "outputs": [],
   "source": [
    "import numpy as np\n",
    "from keras.preprocessing import image\n",
    "test_image = image.load_img('dataset/single_prediction/cat_or_dog_4.jpg', target_size = (64,64))\n",
    "test_image = image.img_to_array(test_image)\n",
    "test_image = np.expand_dims(test_image, axis = 0)\n",
    "result = cnn.predict(test_image)\n",
    "training_set.class_indices\n",
    "if result[0][0] == 1:\n",
    "  prediction = 'dog'\n",
    "else:\n",
    "  prediction = 'cat'"
   ]
  },
  {
   "cell_type": "code",
   "execution_count": 24,
   "metadata": {
    "id": "svocpOo2Zyd7"
   },
   "outputs": [
    {
     "name": "stdout",
     "output_type": "stream",
     "text": [
      "cat\n"
     ]
    }
   ],
   "source": [
    "print(prediction)"
   ]
  },
  {
   "cell_type": "code",
   "execution_count": null,
   "metadata": {},
   "outputs": [],
   "source": []
  }
 ],
 "metadata": {
  "colab": {
   "collapsed_sections": [],
   "name": "convolutional_neural_network.ipynb",
   "provenance": [],
   "toc_visible": true
  },
  "kernelspec": {
   "display_name": "Python 3",
   "language": "python",
   "name": "python3"
  },
  "language_info": {
   "codemirror_mode": {
    "name": "ipython",
    "version": 3
   },
   "file_extension": ".py",
   "mimetype": "text/x-python",
   "name": "python",
   "nbconvert_exporter": "python",
   "pygments_lexer": "ipython3",
   "version": "3.7.6"
  },
  "toc": {
   "base_numbering": 1,
   "nav_menu": {},
   "number_sections": true,
   "sideBar": true,
   "skip_h1_title": false,
   "title_cell": "Table of Contents",
   "title_sidebar": "Contents",
   "toc_cell": false,
   "toc_position": {},
   "toc_section_display": true,
   "toc_window_display": false
  }
 },
 "nbformat": 4,
 "nbformat_minor": 1
}
